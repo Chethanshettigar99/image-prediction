!pip install tensorflow
!pip install pillow

import tensorflow as tf
from tensorflow.keras.preprocessing import image
from tensorflow.keras.applications.mobilenet_v2 import MobileNetV2, preprocess_input, decode_predictions
import numpy as np
from PIL import Image

# Load the pre-trained model
model = MobileNetV2(weights='imagenet')

def predict_image(img_path):
    # Load the image with the target size for the model
    img = image.load_img(img_path, target_size=(224, 224))

    # Convert the image to an array
    img_array = image.img_to_array(img)

    # Expand dimensions to match the input shape of the model
    img_array = np.expand_dims(img_array, axis=0)

    # Preprocess the image for the model
    img_array = preprocess_input(img_array)

    # Make predictions
    predictions = model.predict(img_array)

    # Decode the predictions
    decoded_predictions = decode_predictions(predictions, top=3)

    # Display the results
    for i, (imagenet_id, label, score) in enumerate(decoded_predictions[0]):
        print(f"{i + 1}: {label} ({score:.2f})")


# replace example.jpg by your file name
img_path = 'example.jpg' 
predict_image(img_path)
